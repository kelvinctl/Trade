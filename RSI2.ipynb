{
 "metadata": {
  "language_info": {
   "codemirror_mode": {
    "name": "ipython",
    "version": 3
   },
   "file_extension": ".py",
   "mimetype": "text/x-python",
   "name": "python",
   "nbconvert_exporter": "python",
   "pygments_lexer": "ipython3",
   "version": "3.8.5"
  },
  "orig_nbformat": 4,
  "kernelspec": {
   "name": "python3",
   "display_name": "Python 3.8.5 64-bit ('base': conda)"
  },
  "interpreter": {
   "hash": "f0e1aa3731114fc6fbe14ba98efee3313f0a1c55bdc40c489b57fdcac14cf8bd"
  }
 },
 "nbformat": 4,
 "nbformat_minor": 2,
 "cells": [
  {
   "cell_type": "code",
   "execution_count": 26,
   "metadata": {},
   "outputs": [
    {
     "output_type": "execute_result",
     "data": {
      "text/plain": [
       "Date\n",
       "2021-06-08    0.059784\n",
       "2021-06-09   -0.607941\n",
       "2021-06-10    1.783936\n",
       "2021-06-11    0.677704\n",
       "2021-06-14    0.976715\n",
       "2021-06-15   -0.817261\n",
       "2021-06-16   -2.132782\n",
       "2021-06-17   -0.139496\n",
       "2021-06-18   -5.132599\n",
       "2021-06-21    5.341888\n",
       "2021-06-22    2.053040\n",
       "2021-06-23   -0.418579\n",
       "2021-06-24    2.222443\n",
       "2021-06-25    1.445099\n",
       "2021-06-28    0.817261\n",
       "2021-06-29    0.172974\n",
       "2021-06-30    0.359985\n",
       "2021-07-01    2.220001\n",
       "2021-07-02    3.010010\n",
       "2021-07-06   -2.171692\n",
       "Name: Close, dtype: float64"
      ]
     },
     "metadata": {},
     "execution_count": 26
    }
   ],
   "source": [
    "import yfinance as yf\n",
    "import datetime as dt\n",
    "import pandas as pd\n",
    "import matplotlib as plt\n",
    "import random\n",
    "\n",
    "a = ['GLD','TSM', 'GOOG', 'AMZN', 'EQIX', 'NFLX', 'TCEHY', 'BABA', 'SOXL', 'VOO']\n",
    "\n",
    "#start = dt.datetime(2013, 1, 1)\n",
    "for i in range(len(a)):\n",
    "    ticker = a[i]\n",
    "    end = dt.datetime.now() \n",
    "    start = end - dt.timedelta(days=20)\n",
    "\n",
    "    data = yf.Ticker(ticker)\n",
    "    hist = data.history(period='1mo')\n",
    "    delta = hist['Close'].diff(1)\n",
    "    delta.dropna(inplace=True)\n",
    "\n",
    "    positive = delta.copy()\n",
    "    negative = delta.copy()\n",
    "\n",
    "    positive[positive < 0] = 0\n",
    "    negative[negative > 0] = 0\n",
    "    days = 10\n",
    "\n",
    "    average_gain = positive.rolling(window=days).mean()\n",
    "    average_loss = abs(negative.rolling(window=days).mean())\n",
    "    relative_strength = average_gain / average_loss\n",
    "    RSI = 100.0 - (100.0 / (1.0 + relative_strength))\n",
    "\n",
    "    combined = pd.DataFrame()\n",
    "    combined['Close'] = hist['Close']\n",
    "    combined['RSI'] = RSI\n",
    "    combined['Name'] = ticker\n",
    "    combined.dropna(inplace=True)\n",
    "    combined.to_csv('for_read' + str(i) + '.csv')\n",
    "\n"
   ]
  }
 ]
}